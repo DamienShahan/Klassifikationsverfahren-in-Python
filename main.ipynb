{
  "nbformat": 4,
  "nbformat_minor": 0,
  "metadata": {
    "colab": {
      "name": "main.ipynb",
      "provenance": [],
      "collapsed_sections": [],
      "authorship_tag": "ABX9TyPzYWkO2sAXsf0GXkZcWwyx",
      "include_colab_link": true
    },
    "kernelspec": {
      "name": "python3",
      "display_name": "Python 3"
    }
  },
  "cells": [
    {
      "cell_type": "markdown",
      "metadata": {
        "id": "view-in-github",
        "colab_type": "text"
      },
      "source": [
        "<a href=\"https://colab.research.google.com/github/DamienShahan/Klassifikationsverfahren-in-Python/blob/main/main.ipynb\" target=\"_parent\"><img src=\"https://colab.research.google.com/assets/colab-badge.svg\" alt=\"Open In Colab\"/></a>"
      ]
    },
    {
      "cell_type": "markdown",
      "metadata": {
        "id": "T5hAfQrtrQlV"
      },
      "source": [
        "# Klassifikationsverfahren in Python: Modellentwicklung zur Kreditvorhersage einer Bank\r\n",
        "\r\n",
        "# Inhaltsverzeichnis\r\n",
        "\r\n",
        "1. [Business Understanding](#Business-Understanding)\r\n",
        "2. [Data Understanding](#Data-Understanding)\r\n",
        "3. [Data Preperation](#Data-Preperation)\r\n",
        "4. [Modelling](#Modelling)\r\n",
        "5. [Evalutation](#Evalutation)\r\n",
        "6. [Werte predicten](#Werte-predicten)\r\n",
        "7. [Deployment](#Deployment)"
      ]
    },
    {
      "cell_type": "markdown",
      "metadata": {
        "id": "BbVyqVPNrmxM"
      },
      "source": [
        "# 1. Business Understanding\r\n",
        "\r\n",
        "<b>Wie ist die Ausgangssituation?</b>\r\n",
        "\r\n",
        "Eine Bank möchte für die Zukunft bessere Vorhersagen treffen können, ob ein Kunde seinen Kredit zurückzahlen wird oder nicht.\r\n",
        "\r\n",
        "<b>Welche Ressourcen stehen zur Verfügung?</b>\r\n",
        "\r\n",
        "Zur Entwicklung eines Modells, wurde ein Datensatz mit 120000 Kundeneinträgen zur Verfügung gestellt anhand der das Modell trainiert werden soll. Dazu haben wir von einem Verantwortlichen der Bank eine kurze Beschreibung der Daten in Form eines Data Dictionaries.\r\n",
        "\r\n",
        "<b>Welche Ergebnisse sollen erreicht werden?</b>\r\n",
        "\r\n",
        "Es soll Modell für eine Bank entwickelt werden, welches vohersagen soll, ob ein Kunde seinen Kredit zurückzahlen wird oder nicht. Dazu wird eine komplette Analyse nach dem CRISP-DM Referenzmodell durchgeführt. Zum Schluss wird das Trainingsset auf ein Testset angewandt und versucht deren Zielattribut zu prognostizieren."
      ]
    },
    {
      "cell_type": "markdown",
      "metadata": {
        "id": "I5UMjE9JsCeU"
      },
      "source": [
        "# 2. Data Understanding\r\n",
        "Das Data Understanding beinhaltet eine deskriptive und eine grafische Analyse. In der deskritiven Analyse werden die wichtigste deskriptiven Maßzahlen für die Daten erhoben und interpretiert. In der grafischen Analyse werden Diagramm erstellt, die die wichtigsten Maßzahlen visualisieren.\r\n",
        "\r\n",
        "Im folgenden haben wir je Spalte in dem gegebenen Trainingsset sowohl eine deskriptive als auch eine grafische Analyse erstellt. Bevor mit dem Data Understanding begonnen werden kann, installieren wir alle benötigten Pakete und laden diese.\r\n",
        "\r\n",
        "Anschließend wird das Trainingsset in einen Dataframe (df) geladen und ausgegeben. Der Dezimaltrenner (decimal) des Datensatzes ist ein Punkt und der Spaltentrenner (seperator) ein Komma."
      ]
    },
    {
      "cell_type": "code",
      "metadata": {
        "id": "QavIucrMy9RO"
      },
      "source": [
        "# Import libraries\r\n",
        "import pandas as pd\r\n",
        "import numpy as np\r\n",
        "import matplotlib.pyplot as plt\r\n",
        "import math\r\n",
        "plt.style.use('fivethirtyeight')"
      ],
      "execution_count": null,
      "outputs": []
    },
    {
      "cell_type": "code",
      "metadata": {
        "colab": {
          "resources": {
            "http://localhost:8080/nbextensions/google.colab/files.js": {
              "data": "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",
              "ok": true,
              "headers": [
                [
                  "content-type",
                  "application/javascript"
                ]
              ],
              "status": 200,
              "status_text": ""
            }
          },
          "base_uri": "https://localhost:8080/",
          "height": 72
        },
        "id": "zoaohlj-xbkc",
        "outputId": "dff27b09-94cd-4501-84e7-4a083171a8b7"
      },
      "source": [
        "# Load the data\r\n",
        "from google.colab import files\r\n",
        "uploaded = files.upload()"
      ],
      "execution_count": null,
      "outputs": [
        {
          "output_type": "display_data",
          "data": {
            "text/html": [
              "\n",
              "     <input type=\"file\" id=\"files-8e1de701-2b58-4450-ba9e-7f13cbbfa735\" name=\"files[]\" multiple disabled\n",
              "        style=\"border:none\" />\n",
              "     <output id=\"result-8e1de701-2b58-4450-ba9e-7f13cbbfa735\">\n",
              "      Upload widget is only available when the cell has been executed in the\n",
              "      current browser session. Please rerun this cell to enable.\n",
              "      </output>\n",
              "      <script src=\"/nbextensions/google.colab/files.js\"></script> "
            ],
            "text/plain": [
              "<IPython.core.display.HTML object>"
            ]
          },
          "metadata": {
            "tags": []
          }
        },
        {
          "output_type": "stream",
          "text": [
            "Saving trainset.csv to trainset.csv\n"
          ],
          "name": "stdout"
        }
      ]
    },
    {
      "cell_type": "code",
      "metadata": {
        "id": "NHOCTZ5iy3i3"
      },
      "source": [
        "#Datensatz einlesen und ausgeben\r\n",
        "df = pd.read_csv('trainset.csv')\r\n",
        "df = df.set_index(df['X'].values)"
      ],
      "execution_count": null,
      "outputs": []
    },
    {
      "cell_type": "code",
      "metadata": {
        "colab": {
          "base_uri": "https://localhost:8080/",
          "height": 419
        },
        "id": "4mQs4ZSqzt3i",
        "outputId": "e1a61f42-1bee-4915-efaf-c1b7f11f10da"
      },
      "source": [
        "# Show data\r\n",
        "df"
      ],
      "execution_count": null,
      "outputs": [
        {
          "output_type": "execute_result",
          "data": {
            "text/html": [
              "<div>\n",
              "<style scoped>\n",
              "    .dataframe tbody tr th:only-of-type {\n",
              "        vertical-align: middle;\n",
              "    }\n",
              "\n",
              "    .dataframe tbody tr th {\n",
              "        vertical-align: top;\n",
              "    }\n",
              "\n",
              "    .dataframe thead th {\n",
              "        text-align: right;\n",
              "    }\n",
              "</style>\n",
              "<table border=\"1\" class=\"dataframe\">\n",
              "  <thead>\n",
              "    <tr style=\"text-align: right;\">\n",
              "      <th></th>\n",
              "      <th>X</th>\n",
              "      <th>DefaultLast2Years</th>\n",
              "      <th>ProportionOfUnsecuredLines</th>\n",
              "      <th>Age</th>\n",
              "      <th>NumberOfTime30.59DaysPast</th>\n",
              "      <th>DebtRatio</th>\n",
              "      <th>MonthlyIncome</th>\n",
              "      <th>OpenCreditLinesAndLoans</th>\n",
              "      <th>X90DaysLate</th>\n",
              "      <th>RealEstateLoansOrLines</th>\n",
              "      <th>X60.89DaysPast</th>\n",
              "      <th>Dependents</th>\n",
              "    </tr>\n",
              "  </thead>\n",
              "  <tbody>\n",
              "    <tr>\n",
              "      <th>77315</th>\n",
              "      <td>77315</td>\n",
              "      <td>0</td>\n",
              "      <td>0.665206</td>\n",
              "      <td>44</td>\n",
              "      <td>0</td>\n",
              "      <td>0.420290</td>\n",
              "      <td>2000.0</td>\n",
              "      <td>2</td>\n",
              "      <td>0</td>\n",
              "      <td>1</td>\n",
              "      <td>0</td>\n",
              "      <td>3.0</td>\n",
              "    </tr>\n",
              "    <tr>\n",
              "      <th>59212</th>\n",
              "      <td>59212</td>\n",
              "      <td>0</td>\n",
              "      <td>0.252986</td>\n",
              "      <td>26</td>\n",
              "      <td>0</td>\n",
              "      <td>0.117026</td>\n",
              "      <td>4639.0</td>\n",
              "      <td>9</td>\n",
              "      <td>0</td>\n",
              "      <td>0</td>\n",
              "      <td>0</td>\n",
              "      <td>0.0</td>\n",
              "    </tr>\n",
              "    <tr>\n",
              "      <th>71951</th>\n",
              "      <td>71951</td>\n",
              "      <td>0</td>\n",
              "      <td>0.882309</td>\n",
              "      <td>46</td>\n",
              "      <td>0</td>\n",
              "      <td>0.537526</td>\n",
              "      <td>6741.0</td>\n",
              "      <td>20</td>\n",
              "      <td>0</td>\n",
              "      <td>1</td>\n",
              "      <td>0</td>\n",
              "      <td>0.0</td>\n",
              "    </tr>\n",
              "    <tr>\n",
              "      <th>135632</th>\n",
              "      <td>135632</td>\n",
              "      <td>0</td>\n",
              "      <td>0.017996</td>\n",
              "      <td>52</td>\n",
              "      <td>0</td>\n",
              "      <td>0.720928</td>\n",
              "      <td>8667.0</td>\n",
              "      <td>16</td>\n",
              "      <td>0</td>\n",
              "      <td>3</td>\n",
              "      <td>0</td>\n",
              "      <td>0.0</td>\n",
              "    </tr>\n",
              "    <tr>\n",
              "      <th>129226</th>\n",
              "      <td>129226</td>\n",
              "      <td>0</td>\n",
              "      <td>1.000000</td>\n",
              "      <td>31</td>\n",
              "      <td>0</td>\n",
              "      <td>0.000000</td>\n",
              "      <td>0.0</td>\n",
              "      <td>0</td>\n",
              "      <td>0</td>\n",
              "      <td>0</td>\n",
              "      <td>0</td>\n",
              "      <td>0.0</td>\n",
              "    </tr>\n",
              "    <tr>\n",
              "      <th>...</th>\n",
              "      <td>...</td>\n",
              "      <td>...</td>\n",
              "      <td>...</td>\n",
              "      <td>...</td>\n",
              "      <td>...</td>\n",
              "      <td>...</td>\n",
              "      <td>...</td>\n",
              "      <td>...</td>\n",
              "      <td>...</td>\n",
              "      <td>...</td>\n",
              "      <td>...</td>\n",
              "      <td>...</td>\n",
              "    </tr>\n",
              "    <tr>\n",
              "      <th>33237</th>\n",
              "      <td>33237</td>\n",
              "      <td>0</td>\n",
              "      <td>0.019228</td>\n",
              "      <td>40</td>\n",
              "      <td>0</td>\n",
              "      <td>0.468119</td>\n",
              "      <td>12075.0</td>\n",
              "      <td>6</td>\n",
              "      <td>0</td>\n",
              "      <td>2</td>\n",
              "      <td>0</td>\n",
              "      <td>2.0</td>\n",
              "    </tr>\n",
              "    <tr>\n",
              "      <th>6314</th>\n",
              "      <td>6314</td>\n",
              "      <td>0</td>\n",
              "      <td>0.055617</td>\n",
              "      <td>36</td>\n",
              "      <td>1</td>\n",
              "      <td>0.822058</td>\n",
              "      <td>3916.0</td>\n",
              "      <td>13</td>\n",
              "      <td>0</td>\n",
              "      <td>1</td>\n",
              "      <td>0</td>\n",
              "      <td>0.0</td>\n",
              "    </tr>\n",
              "    <tr>\n",
              "      <th>148836</th>\n",
              "      <td>148836</td>\n",
              "      <td>1</td>\n",
              "      <td>0.022324</td>\n",
              "      <td>74</td>\n",
              "      <td>0</td>\n",
              "      <td>0.745849</td>\n",
              "      <td>2950.0</td>\n",
              "      <td>9</td>\n",
              "      <td>1</td>\n",
              "      <td>2</td>\n",
              "      <td>0</td>\n",
              "      <td>0.0</td>\n",
              "    </tr>\n",
              "    <tr>\n",
              "      <th>87153</th>\n",
              "      <td>87153</td>\n",
              "      <td>0</td>\n",
              "      <td>0.884033</td>\n",
              "      <td>36</td>\n",
              "      <td>0</td>\n",
              "      <td>0.342612</td>\n",
              "      <td>10022.0</td>\n",
              "      <td>8</td>\n",
              "      <td>0</td>\n",
              "      <td>2</td>\n",
              "      <td>0</td>\n",
              "      <td>0.0</td>\n",
              "    </tr>\n",
              "    <tr>\n",
              "      <th>14028</th>\n",
              "      <td>14028</td>\n",
              "      <td>0</td>\n",
              "      <td>0.979723</td>\n",
              "      <td>64</td>\n",
              "      <td>0</td>\n",
              "      <td>0.402009</td>\n",
              "      <td>6571.0</td>\n",
              "      <td>5</td>\n",
              "      <td>0</td>\n",
              "      <td>1</td>\n",
              "      <td>0</td>\n",
              "      <td>0.0</td>\n",
              "    </tr>\n",
              "  </tbody>\n",
              "</table>\n",
              "<p>120000 rows × 12 columns</p>\n",
              "</div>"
            ],
            "text/plain": [
              "             X  DefaultLast2Years  ...  X60.89DaysPast  Dependents\n",
              "77315    77315                  0  ...               0         3.0\n",
              "59212    59212                  0  ...               0         0.0\n",
              "71951    71951                  0  ...               0         0.0\n",
              "135632  135632                  0  ...               0         0.0\n",
              "129226  129226                  0  ...               0         0.0\n",
              "...        ...                ...  ...             ...         ...\n",
              "33237    33237                  0  ...               0         2.0\n",
              "6314      6314                  0  ...               0         0.0\n",
              "148836  148836                  1  ...               0         0.0\n",
              "87153    87153                  0  ...               0         0.0\n",
              "14028    14028                  0  ...               0         0.0\n",
              "\n",
              "[120000 rows x 12 columns]"
            ]
          },
          "metadata": {
            "tags": []
          },
          "execution_count": 10
        }
      ]
    },
    {
      "cell_type": "code",
      "metadata": {
        "colab": {
          "base_uri": "https://localhost:8080/"
        },
        "id": "lmQnRU8rz-BF",
        "outputId": "b2df030b-4443-4334-9219-e73885455fdc"
      },
      "source": [
        "# Strukur des Datensatzes auslesen\r\n",
        "df.dtypes"
      ],
      "execution_count": null,
      "outputs": [
        {
          "output_type": "execute_result",
          "data": {
            "text/plain": [
              "X                               int64\n",
              "DefaultLast2Years               int64\n",
              "ProportionOfUnsecuredLines    float64\n",
              "Age                             int64\n",
              "NumberOfTime30.59DaysPast       int64\n",
              "DebtRatio                     float64\n",
              "MonthlyIncome                 float64\n",
              "OpenCreditLinesAndLoans         int64\n",
              "X90DaysLate                     int64\n",
              "RealEstateLoansOrLines          int64\n",
              "X60.89DaysPast                  int64\n",
              "Dependents                    float64\n",
              "dtype: object"
            ]
          },
          "metadata": {
            "tags": []
          },
          "execution_count": 19
        }
      ]
    },
    {
      "cell_type": "markdown",
      "metadata": {
        "id": "_KRi40uV1Hwa"
      },
      "source": [
        "Die Skalierung der Attribute sieht auf den ersten Blick durchweg gut aus. Bis auf die Variable DefaultLast2Years sehen die Datentypen auch richtig aus. Die Spalte DefaultLast2Years wird von Integer in Factor gecastet. Zur Sicherheit casten wir allerdings auch noch die anderen Variablen."
      ]
    },
    {
      "cell_type": "code",
      "metadata": {
        "id": "M4DrIZYZ2WCM"
      },
      "source": [
        "# Variable als factor casten\r\n",
        "df['DefaultLast2Years'] = df['DefaultLast2Years'].astype('category')"
      ],
      "execution_count": null,
      "outputs": []
    },
    {
      "cell_type": "code",
      "metadata": {
        "colab": {
          "base_uri": "https://localhost:8080/"
        },
        "id": "thP5T6QW8AIr",
        "outputId": "e755cf4f-7bad-4e40-a9cf-3414a3b94fb5"
      },
      "source": [
        "# Anzahl der Zeilen im Datensatz\r\n",
        "len(df)"
      ],
      "execution_count": null,
      "outputs": [
        {
          "output_type": "execute_result",
          "data": {
            "text/plain": [
              "120000"
            ]
          },
          "metadata": {
            "tags": []
          },
          "execution_count": 31
        }
      ]
    },
    {
      "cell_type": "code",
      "metadata": {
        "colab": {
          "base_uri": "https://localhost:8080/",
          "height": 297
        },
        "id": "NfDSAKyb8Q3Q",
        "outputId": "9ac22829-93b9-4215-8dfd-02e95643af10"
      },
      "source": [
        "# Summary des Datensatzes ausgeben lassen\r\n",
        "df.describe()"
      ],
      "execution_count": null,
      "outputs": [
        {
          "output_type": "execute_result",
          "data": {
            "text/html": [
              "<div>\n",
              "<style scoped>\n",
              "    .dataframe tbody tr th:only-of-type {\n",
              "        vertical-align: middle;\n",
              "    }\n",
              "\n",
              "    .dataframe tbody tr th {\n",
              "        vertical-align: top;\n",
              "    }\n",
              "\n",
              "    .dataframe thead th {\n",
              "        text-align: right;\n",
              "    }\n",
              "</style>\n",
              "<table border=\"1\" class=\"dataframe\">\n",
              "  <thead>\n",
              "    <tr style=\"text-align: right;\">\n",
              "      <th></th>\n",
              "      <th>X</th>\n",
              "      <th>ProportionOfUnsecuredLines</th>\n",
              "      <th>Age</th>\n",
              "      <th>NumberOfTime30.59DaysPast</th>\n",
              "      <th>DebtRatio</th>\n",
              "      <th>MonthlyIncome</th>\n",
              "      <th>OpenCreditLinesAndLoans</th>\n",
              "      <th>X90DaysLate</th>\n",
              "      <th>RealEstateLoansOrLines</th>\n",
              "      <th>X60.89DaysPast</th>\n",
              "      <th>Dependents</th>\n",
              "    </tr>\n",
              "  </thead>\n",
              "  <tbody>\n",
              "    <tr>\n",
              "      <th>count</th>\n",
              "      <td>120000.00000</td>\n",
              "      <td>120000.000000</td>\n",
              "      <td>120000.000000</td>\n",
              "      <td>120000.000000</td>\n",
              "      <td>120000.000000</td>\n",
              "      <td>9.620800e+04</td>\n",
              "      <td>120000.000000</td>\n",
              "      <td>120000.000000</td>\n",
              "      <td>120000.000000</td>\n",
              "      <td>120000.000000</td>\n",
              "      <td>116821.000000</td>\n",
              "    </tr>\n",
              "    <tr>\n",
              "      <th>mean</th>\n",
              "      <td>75042.95220</td>\n",
              "      <td>6.299766</td>\n",
              "      <td>52.300783</td>\n",
              "      <td>0.428567</td>\n",
              "      <td>355.264003</td>\n",
              "      <td>6.668795e+03</td>\n",
              "      <td>8.461142</td>\n",
              "      <td>0.274200</td>\n",
              "      <td>1.020658</td>\n",
              "      <td>0.247983</td>\n",
              "      <td>0.758100</td>\n",
              "    </tr>\n",
              "    <tr>\n",
              "      <th>std</th>\n",
              "      <td>43290.04647</td>\n",
              "      <td>263.333613</td>\n",
              "      <td>14.762532</td>\n",
              "      <td>4.284176</td>\n",
              "      <td>2200.367663</td>\n",
              "      <td>1.469124e+04</td>\n",
              "      <td>5.149796</td>\n",
              "      <td>4.261821</td>\n",
              "      <td>1.133112</td>\n",
              "      <td>4.247529</td>\n",
              "      <td>1.114461</td>\n",
              "    </tr>\n",
              "    <tr>\n",
              "      <th>min</th>\n",
              "      <td>1.00000</td>\n",
              "      <td>0.000000</td>\n",
              "      <td>0.000000</td>\n",
              "      <td>0.000000</td>\n",
              "      <td>0.000000</td>\n",
              "      <td>0.000000e+00</td>\n",
              "      <td>0.000000</td>\n",
              "      <td>0.000000</td>\n",
              "      <td>0.000000</td>\n",
              "      <td>0.000000</td>\n",
              "      <td>0.000000</td>\n",
              "    </tr>\n",
              "    <tr>\n",
              "      <th>25%</th>\n",
              "      <td>37656.75000</td>\n",
              "      <td>0.029717</td>\n",
              "      <td>41.000000</td>\n",
              "      <td>0.000000</td>\n",
              "      <td>0.175756</td>\n",
              "      <td>3.400000e+03</td>\n",
              "      <td>5.000000</td>\n",
              "      <td>0.000000</td>\n",
              "      <td>0.000000</td>\n",
              "      <td>0.000000</td>\n",
              "      <td>0.000000</td>\n",
              "    </tr>\n",
              "    <tr>\n",
              "      <th>50%</th>\n",
              "      <td>75073.00000</td>\n",
              "      <td>0.153941</td>\n",
              "      <td>52.000000</td>\n",
              "      <td>0.000000</td>\n",
              "      <td>0.367897</td>\n",
              "      <td>5.400000e+03</td>\n",
              "      <td>8.000000</td>\n",
              "      <td>0.000000</td>\n",
              "      <td>1.000000</td>\n",
              "      <td>0.000000</td>\n",
              "      <td>0.000000</td>\n",
              "    </tr>\n",
              "    <tr>\n",
              "      <th>75%</th>\n",
              "      <td>112501.25000</td>\n",
              "      <td>0.557692</td>\n",
              "      <td>63.000000</td>\n",
              "      <td>0.000000</td>\n",
              "      <td>0.870786</td>\n",
              "      <td>8.250000e+03</td>\n",
              "      <td>11.000000</td>\n",
              "      <td>0.000000</td>\n",
              "      <td>2.000000</td>\n",
              "      <td>0.000000</td>\n",
              "      <td>1.000000</td>\n",
              "    </tr>\n",
              "    <tr>\n",
              "      <th>max</th>\n",
              "      <td>150000.00000</td>\n",
              "      <td>50708.000000</td>\n",
              "      <td>109.000000</td>\n",
              "      <td>98.000000</td>\n",
              "      <td>329664.000000</td>\n",
              "      <td>3.008750e+06</td>\n",
              "      <td>58.000000</td>\n",
              "      <td>98.000000</td>\n",
              "      <td>54.000000</td>\n",
              "      <td>98.000000</td>\n",
              "      <td>13.000000</td>\n",
              "    </tr>\n",
              "  </tbody>\n",
              "</table>\n",
              "</div>"
            ],
            "text/plain": [
              "                  X  ProportionOfUnsecuredLines  ...  X60.89DaysPast     Dependents\n",
              "count  120000.00000               120000.000000  ...   120000.000000  116821.000000\n",
              "mean    75042.95220                    6.299766  ...        0.247983       0.758100\n",
              "std     43290.04647                  263.333613  ...        4.247529       1.114461\n",
              "min         1.00000                    0.000000  ...        0.000000       0.000000\n",
              "25%     37656.75000                    0.029717  ...        0.000000       0.000000\n",
              "50%     75073.00000                    0.153941  ...        0.000000       0.000000\n",
              "75%    112501.25000                    0.557692  ...        0.000000       1.000000\n",
              "max    150000.00000                50708.000000  ...       98.000000      13.000000\n",
              "\n",
              "[8 rows x 11 columns]"
            ]
          },
          "metadata": {
            "tags": []
          },
          "execution_count": 29
        }
      ]
    },
    {
      "cell_type": "code",
      "metadata": {
        "colab": {
          "base_uri": "https://localhost:8080/"
        },
        "id": "M44SNt0S9TFc",
        "outputId": "b8b7fc15-f3fb-433b-8d95-8490763c8901"
      },
      "source": [
        "# Prüfen auf missing values \r\n",
        "df.isnull().sum()"
      ],
      "execution_count": null,
      "outputs": [
        {
          "output_type": "execute_result",
          "data": {
            "text/plain": [
              "X                                 0\n",
              "DefaultLast2Years                 0\n",
              "ProportionOfUnsecuredLines        0\n",
              "Age                               0\n",
              "NumberOfTime30.59DaysPast         0\n",
              "DebtRatio                         0\n",
              "MonthlyIncome                 23792\n",
              "OpenCreditLinesAndLoans           0\n",
              "X90DaysLate                       0\n",
              "RealEstateLoansOrLines            0\n",
              "X60.89DaysPast                    0\n",
              "Dependents                     3179\n",
              "dtype: int64"
            ]
          },
          "metadata": {
            "tags": []
          },
          "execution_count": 45
        }
      ]
    },
    {
      "cell_type": "markdown",
      "metadata": {
        "id": "OFmENjrbB5iQ"
      },
      "source": [
        "In den beiden Spalten MonthlyIncome und Dependents sind Missing Values enthalten."
      ]
    },
    {
      "cell_type": "code",
      "metadata": {
        "colab": {
          "base_uri": "https://localhost:8080/",
          "height": 332
        },
        "id": "PJ4uEblQ9MZz",
        "outputId": "4898b27f-e9ef-48b2-cafa-2371302d5871"
      },
      "source": [
        "# Missing Data-Plot\r\n",
        "# get percentage of missing values\r\n",
        "size = (df.isnull().sum()/len(df)*100)\r\n",
        "bars = df.columns\r\n",
        "y_pos = np.arange(len(bars))\r\n",
        " \r\n",
        "# Create horizontal bars\r\n",
        "plt.barh(y_pos, size)\r\n",
        " \r\n",
        "# Create names on the x-axis\r\n",
        "plt.yticks(y_pos, bars)\r\n",
        "\r\n",
        "# Add title\r\n",
        "plt.suptitle('Plot of the amount of missing values')\r\n",
        "plt.xlabel('% of values missing')\r\n",
        "plt.ylabel('Variables')\r\n",
        " \r\n",
        "# Show graphic\r\n",
        "plt.show()"
      ],
      "execution_count": null,
      "outputs": [
        {
          "output_type": "display_data",
          "data": {
            "image/png": "[encoded data removed]",
            "text/plain": [
              "<Figure size 432x288 with 1 Axes>"
            ]
          },
          "metadata": {
            "tags": []
          }
        }
      ]
    },
    {
      "cell_type": "markdown",
      "metadata": {
        "id": "35uexRetPdEe"
      },
      "source": [
        "## 2.1 Deskritive und Graphische Analyse je Variable"
      ]
    },
    {
      "cell_type": "markdown",
      "metadata": {
        "id": "m78QZUQGPgXf"
      },
      "source": [
        "### 2.1.1 DefaultLast2Years\r\n",
        "Die Spalte DefaultLast2Yeats zeigt welche Personen länger als 90 Tage eine offene Kreditrate nicht beglichen hat.\r\n",
        "\r\n",
        "Die Spalte DefaultLast2Years enthält die Werte 0 und 1.\r\n",
        "\r\n",
        "“0” bedeutet “nicht ausgefallen” und wird im folgenden als guter Kunde bezeichnet.\r\n",
        "\r\n",
        "“1” bedeutet “ausgefallen” und wird im folgenden als schlechter Kunde bezeichnet."
      ]
    },
    {
      "cell_type": "markdown",
      "metadata": {
        "id": "YVe5dFEhQTRL"
      },
      "source": [
        "# 3. Data Preperation\r\n",
        "Nachdem im Teil des Data Understanding eine Menge an Fehlern und Inkonsistenzen gefunden wurden, soll nun in Data Preperation Teil der Datensatz bereinigt werden. Der Data Preperation Teil beinhaltet allgemein das Filtern von Anomalien, die Behandlung von Missing Values und das Feature Engineering."
      ]
    }
  ]
}