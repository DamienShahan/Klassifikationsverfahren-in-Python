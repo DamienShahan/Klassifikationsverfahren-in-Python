{
  "nbformat": 4,
  "nbformat_minor": 0,
  "metadata": {
    "colab": {
      "name": "main.ipynb",
      "provenance": [],
      "collapsed_sections": [],
      "authorship_tag": "ABX9TyOmeW9IqOX3m6neCxrWUpuW",
      "include_colab_link": true
    },
    "kernelspec": {
      "name": "python3",
      "display_name": "Python 3"
    }
  },
  "cells": [
    {
      "cell_type": "markdown",
      "metadata": {
        "id": "view-in-github",
        "colab_type": "text"
      },
      "source": [
        "<a href=\"https://colab.research.google.com/github/DamienShahan/Klassifikationsverfahren-in-Python/blob/main/main.ipynb\" target=\"_parent\"><img src=\"https://colab.research.google.com/assets/colab-badge.svg\" alt=\"Open In Colab\"/></a>"
      ]
    },
    {
      "cell_type": "markdown",
      "metadata": {
        "id": "T5hAfQrtrQlV"
      },
      "source": [
        "# Klassifikationsverfahren in Python: Modellentwicklung zur Kreditvorhersage einer Bank\r\n",
        "\r\n",
        "# Inhaltsverzeichnis\r\n",
        "\r\n",
        "1. Business Understanding\r\n",
        "2. Data Understanding\r\n",
        "3. Data Preperation\r\n",
        "4. Modelling\r\n",
        "5. Evalutation\r\n",
        "6. Werte predicten\r\n",
        "7. Deployment"
      ]
    },
    {
      "cell_type": "markdown",
      "metadata": {
        "id": "BbVyqVPNrmxM"
      },
      "source": [
        "# 1. Business Understanding\r\n",
        "\r\n",
        "<b>Wie ist die Ausgangssituation?</b>\r\n",
        "\r\n",
        "Eine Bank möchte für die Zukunft bessere Vorhersagen treffen können, ob ein Kunde seinen Kredit zurückzahlen wird oder nicht.\r\n",
        "\r\n",
        "<b>Welche Ressourcen stehen zur Verfügung?</b>\r\n",
        "\r\n",
        "Zur Entwicklung eines Modells, wurde ein Datensatz mit 120000 Kundeneinträgen zur Verfügung gestellt anhand der das Modell trainiert werden soll. Dazu haben wir von einem Verantwortlichen der Bank eine kurze Beschreibung der Daten in Form eines Data Dictionaries.\r\n",
        "\r\n",
        "<b>Welche Ergebnisse sollen erreicht werden?</b>\r\n",
        "\r\n",
        "Es soll Modell für eine Bank entwickelt werden, welches vohersagen soll, ob ein Kunde seinen Kredit zurückzahlen wird oder nicht. Dazu wird eine komplette Analyse nach dem CRISP-DM Referenzmodell durchgeführt. Zum Schluss wird das Trainingsset auf ein Testset angewandt und versucht deren Zielattribut zu prognostizieren."
      ]
    },
    {
      "cell_type": "markdown",
      "metadata": {
        "id": "I5UMjE9JsCeU"
      },
      "source": [
        "# 2. Data Understanding\r\n",
        "Das Data Understanding beinhaltet eine deskriptive und eine grafische Analyse. In der deskritiven Analyse werden die wichtigste deskriptiven Maßzahlen für die Daten erhoben und interpretiert. In der grafischen Analyse werden Diagramm erstellt, die die wichtigsten Maßzahlen visualisieren.\r\n",
        "\r\n",
        "Im folgenden haben wir je Spalte in dem gegebenen Trainingsset sowohl eine deskriptive als auch eine grafische Analyse erstellt. Bevor mit dem Data Understanding begonnen werden kann, installieren wir alle benötigten Pakete und laden diese.\r\n",
        "\r\n",
        "Anschließend wird das Trainingsset in einen Dataframe (df) geladen und ausgegeben. Der Dezimaltrenner (decimal) des Datensatzes ist ein Punkt und der Spaltentrenner (seperator) ein Komma."
      ]
    }
  ]
}